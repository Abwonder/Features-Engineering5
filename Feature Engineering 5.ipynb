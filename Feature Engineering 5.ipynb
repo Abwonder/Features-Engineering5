{
 "cells": [
  {
   "cell_type": "markdown",
   "id": "36d47d44",
   "metadata": {},
   "source": [
    "### Assignment "
   ]
  },
  {
   "cell_type": "markdown",
   "id": "a096ecca",
   "metadata": {},
   "source": [
    "### Question 1\n",
    "\n",
    "Q1. What is the difference between Ordinal Encoding and Label Encoding? Provide an example of when you\n",
    "might choose one over the other\n",
    "\n",
    "__Answer__\n",
    "\n",
    "The major difference between both is that one is use to code catgorical variables with natural occurring order e.g levels of education __(BSc, MSc, PhD)__ while Label Encoding if used for coding categorical variables that does not follow a natural order e.g color __(red, white, green)__\n",
    "\n",
    "\n",
    "__Further Explanation__\n",
    "\n",
    "__Label Encoding__ assigns a unique numerical value to each category of a categorical variable, with no consideration of any order or hierarchy among them. For example, in a dataset with a \"color\" variable, label encoding would assign the values \"red\", \"green\", and \"blue\" to the values 0, 1, and 2 respectively.\n",
    "\n",
    "__Ordinal Encoding,__ on the other hand, assigns numerical values to the categories based on their order or hierarchy. For example, if the \"size\" variable in a dataset has categories \"small\", \"medium\", and \"large\", ordinal encoding might assign the values 0, 1, and 2 respectively."
   ]
  },
  {
   "cell_type": "markdown",
   "id": "9f346448",
   "metadata": {},
   "source": [
    "### Question 2\n",
    "\n",
    "Q2. Explain how Target Guided Ordinal Encoding works and provide an example of when you might use it in\n",
    "a machine learning project.\n",
    "\n",
    "__Answer__\n",
    "\n",
    "__Target Guided Ordinal Encoding__ is a technique for encoding categorical data by using the target variable. In this technique, the categories are ordered based on the mean of the target variable corresponding to each category. The categories are then assigned an ordinal number based on this ordering1.\n",
    "\n",
    "__Example__\n",
    "\n",
    "A dataset containing information about employees, including their city location and salary. The city location variable can be coded using Target Guided Ordinal Encoding by first calculating the mean salary for each city. Then order the  cities based on their mean salary and assign an ordinal number to each city based on this ordering.\n",
    "\n",
    "Note: mean also can be use directly to represent each city."
   ]
  },
  {
   "cell_type": "markdown",
   "id": "38dd0ad4",
   "metadata": {},
   "source": [
    "### Question \n",
    "\n",
    "\n",
    "_Q3. Define covariance and explain why it is important in statistical analysis. How is covariance calculated?\n",
    "\n",
    "_Answer__\n",
    "\n",
    "Covariance is a statistical measure that indicates the extent to which two variables are related to each other. Specifically, covariance measures how much two variables vary together or co-vary. A positive covariance indicates that the two variables increase or decrease together, while a negative covariance indicates that as one variable increases, the other decreases. A covariance of zero indicates that there is no linear relationship between the two variables.\n",
    "\n",
    "__Importance__\n",
    "\n",
    "Covariance is important in statistical analysis because it helps to identify how two variables are related to each other. It provides information about the strength and direction of the relationship between two variables. Covariance is commonly used in finance to measure the risk and return of a portfolio. In data analysis, covariance is used to identify the strength of the relationship between two variables and to help select variables for regression analysis.\n",
    "\n",
    "Mathematically, the formula for covariance between two variables X and Y is:\n",
    "\n",
    "Cov(X, Y) = (Σ[(X - μX) * (Y - μY)]) / (n - 1)\n",
    "\n",
    "where:\n",
    "\n",
    "μX is the mean of variable X\n",
    "\n",
    "μY is the mean of variable Y\n",
    "\n",
    "n is the number of observations\n",
    "\n",
    "The result of the formula is a single number that represents the degree to which the two variables covary. A positive value indicates that the two variables have a positive relationship, while a negative value indicates a negative relationship. The magnitude of the covariance is difficult to interpret because it depends on the units of measurement of the variables. To overcome this, correlation, which is a standardized version of covariance, is often used.\n"
   ]
  },
  {
   "cell_type": "markdown",
   "id": "8fa16097",
   "metadata": {},
   "source": [
    "### Question 4\n",
    "\n",
    "Q4. For a dataset with the following categorical variables: Color (red, green, blue), Size (small, medium, large), and Material (wood, metal, plastic), perform label encoding using Python's scikit-learn library.\n",
    "Show your code and explain the output.\n",
    "\n",
    "__Answer__\n",
    "\n",
    "check the code below:"
   ]
  },
  {
   "cell_type": "code",
   "execution_count": 37,
   "id": "b4594872",
   "metadata": {},
   "outputs": [
    {
     "data": {
      "text/html": [
       "<div>\n",
       "<style scoped>\n",
       "    .dataframe tbody tr th:only-of-type {\n",
       "        vertical-align: middle;\n",
       "    }\n",
       "\n",
       "    .dataframe tbody tr th {\n",
       "        vertical-align: top;\n",
       "    }\n",
       "\n",
       "    .dataframe thead th {\n",
       "        text-align: right;\n",
       "    }\n",
       "</style>\n",
       "<table border=\"1\" class=\"dataframe\">\n",
       "  <thead>\n",
       "    <tr style=\"text-align: right;\">\n",
       "      <th></th>\n",
       "      <th>color</th>\n",
       "      <th>size</th>\n",
       "      <th>material</th>\n",
       "    </tr>\n",
       "  </thead>\n",
       "  <tbody>\n",
       "    <tr>\n",
       "      <th>0</th>\n",
       "      <td>red</td>\n",
       "      <td>small</td>\n",
       "      <td>wood</td>\n",
       "    </tr>\n",
       "    <tr>\n",
       "      <th>1</th>\n",
       "      <td>green</td>\n",
       "      <td>medium</td>\n",
       "      <td>metal</td>\n",
       "    </tr>\n",
       "    <tr>\n",
       "      <th>2</th>\n",
       "      <td>blue</td>\n",
       "      <td>large</td>\n",
       "      <td>plastic</td>\n",
       "    </tr>\n",
       "  </tbody>\n",
       "</table>\n",
       "</div>"
      ],
      "text/plain": [
       "   color    size material\n",
       "0    red   small     wood\n",
       "1  green  medium    metal\n",
       "2   blue   large  plastic"
      ]
     },
     "execution_count": 37,
     "metadata": {},
     "output_type": "execute_result"
    }
   ],
   "source": [
    "## The categorical data\n",
    "\n",
    "color = [\"red\", \"green\", \"blue\"]\n",
    "size = [\"small\", \"medium\", \"large\"]\n",
    "material = [\"wood\", \"metal\", \"plastic\"]\n",
    "\n",
    "import pandas as pd\n",
    "\n",
    "df = pd.DataFrame({'color': color, \"size\": size, 'material': material})\n",
    "\n",
    "df"
   ]
  },
  {
   "cell_type": "code",
   "execution_count": 38,
   "id": "2881fe39",
   "metadata": {},
   "outputs": [],
   "source": [
    "### calling in the library for the encoding and loading for label\n",
    "from sklearn.preprocessing import LabelEncoder\n",
    "lbl_encoder=LabelEncoder()  ## creating and insance for method"
   ]
  },
  {
   "cell_type": "code",
   "execution_count": 44,
   "id": "a55cb82d",
   "metadata": {},
   "outputs": [
    {
     "name": "stdout",
     "output_type": "stream",
     "text": [
      "   color_enc  size_enc  mat_enc\n",
      "0          2         2        2\n",
      "1          1         1        0\n",
      "2          0         0        1\n",
      "\n",
      "Label encoding involves assigning a unique numerical \n",
      "label to each category in the variable. \n",
      "The labels are usually assigned in alphabetical \n",
      "order or based on the frequency of the categories.\n"
     ]
    }
   ],
   "source": [
    "## label encode color\n",
    "df['color_enc'] = lbl_encoder.fit_transform(df['color'])\n",
    "\n",
    "## label encode size\n",
    "df['size_enc'] = lbl_encoder.fit_transform(df['size'])\n",
    "\n",
    "# label encode material\n",
    "df['mat_enc'] = lbl_encoder.fit_transform(df['material'])\n",
    "\n",
    "\n",
    "# printing only the encodings out\n",
    "print(df[['color_enc','size_enc',  'mat_enc']])\n",
    "\n",
    "print('''\\nLabel encoding involves assigning a unique numerical \n",
    "label to each category in the variable. \n",
    "The labels are usually assigned in alphabetical \n",
    "order or based on the frequency of the categories.''')"
   ]
  },
  {
   "cell_type": "markdown",
   "id": "b629a79e",
   "metadata": {},
   "source": [
    "### Question 5\n",
    "\n",
    "Q5. Calculate the covariance matrix for the following variables in a dataset: Age, Income, and Education level. Interpret the results.\n",
    "\n",
    "__Answer__\n",
    "\n"
   ]
  },
  {
   "cell_type": "code",
   "execution_count": 46,
   "id": "a186aae3",
   "metadata": {},
   "outputs": [
    {
     "name": "stdout",
     "output_type": "stream",
     "text": [
      "                   Age        Income   Education\n",
      "Age         100.257827 -3.002349e+03   -0.637299\n",
      "Income    -3002.349265  9.187010e+07 -252.094324\n",
      "Education    -0.637299 -2.520943e+02    3.856899\n"
     ]
    }
   ],
   "source": [
    "import numpy as np\n",
    "import pandas as pd\n",
    "\n",
    "# Set the random seed for reproducibility\n",
    "np.random.seed(123)\n",
    "\n",
    "# Generate random data for Age, Income, and Education\n",
    "n = 1000\n",
    "age = np.random.normal(loc=35, scale=10, size=n) ## loc==mean, scale == s.deviation,\n",
    "income = np.random.normal(loc=50000, scale=10000, size=n)\n",
    "education = np.random.normal(loc=12, scale=2, size=n)\n",
    "\n",
    "# Create a Pandas DataFrame with the generated data\n",
    "data = pd.DataFrame({'Age': age, 'Income': income, 'Education': education})\n",
    "\n",
    "# Calculate the covariance matrix\n",
    "cov_matrix = data.cov()\n",
    "\n",
    "print(cov_matrix)\n",
    "\n",
    "## note this are hypothetical numbers not to be interpreted as real data"
   ]
  },
  {
   "cell_type": "markdown",
   "id": "5b26cae5",
   "metadata": {},
   "source": [
    "Interpreting the results:\n",
    "\n",
    "1. The diagonal elements of the covariance matrix show the variance of each variable (e.g., the variance of Age is 100.257827).\n",
    "2. The off-diagonal elements show the covariance between the corresponding pairs of variables (e.g., the covariance between Age and Income is -3002.349265).\n",
    "3. A positive covariance value indicates that the two variables tend to increase or decrease together, while a negative covariance indicates that the two variables tend to move in opposite directions.\n",
    "4. The magnitude of the covariance values does not tell us whether the relationship between the variables is strong or weak. To measure the strength of the relationship, we need to calculate the correlation coefficient."
   ]
  },
  {
   "cell_type": "markdown",
   "id": "24fdae49",
   "metadata": {},
   "source": [
    "### Question 6\n",
    "\n",
    "Q6. You are working on a machine learning project with a dataset containing several categorical  variables, including \"Gender\" (Male/Female), \"Education Level\" (High School/Bachelor's/Master's/PhD), and \"Employment Status\" (Unemployed/Part-Time/Full-Time). Which encoding method would you use for\n",
    "each variable, and why?\n",
    "\n",
    "\n",
    "__Answer__\n",
    "\n",
    "__Gender (binary categorical variable):__\n",
    "\n",
    "One-Hot Encoding  ==> I will use this becuase this feature has two categories and one hot encoding which is binary 0 and 1 is best suited for this. Since it will indicate properly if the respondant is either male or female with proper separtation\n",
    "\n",
    "__Education Level (ordinal categorical variable):__\n",
    "\n",
    "Ordinal Encoding == > the level of the categories in education follow natural order of significant and moreso education is stepwise. each level will be mapped to numbers base on order. For example, we can assign the value 1 to High School, 2 to Bachelor's, 3 to Master's, and 4 to PhD. Ordinal encoding preserves the order of the categories and is a good choice when there is a natural ordering among the categories.\n",
    "\n",
    "__Employment Status (nominal categorical variable):__\n",
    "\n",
    "Label Encoding ==> since no natural order to the level and number of categories is small. Label encoding involves assigning a unique numerical label to each category in the variable. The labels are usually assigned in alphabetical order or based on the frequency of the categories.\n"
   ]
  },
  {
   "cell_type": "markdown",
   "id": "9b6819a9",
   "metadata": {},
   "source": [
    "### Question 7\n",
    "\n",
    "Q7. You are analyzing a dataset with two continuous variables, \"Temperature\" and \"Humidity\", and two categorical variables, \"Weather Condition\" (Sunny/Cloudy/Rainy) and \"Wind Direction\" (North/South/East/West). Calculate the covariance between each pair of variables and interpret the results.\n",
    "__Answer__\n"
   ]
  },
  {
   "cell_type": "code",
   "execution_count": 48,
   "id": "d8d7019b",
   "metadata": {},
   "outputs": [
    {
     "name": "stdout",
     "output_type": "stream",
     "text": [
      "                   Temperature  Humidity  Weather Condition  Wind Direction\n",
      "Temperature               7.30    -11.25               -1.5           -0.45\n",
      "Humidity                -11.25     62.50               -2.5            3.75\n",
      "Weather Condition        -1.50     -2.50                1.0            0.00\n",
      "Wind Direction           -0.45      3.75                0.0            1.30\n"
     ]
    }
   ],
   "source": [
    "import pandas as pd\n",
    "from sklearn.preprocessing import LabelEncoder\n",
    "\n",
    "# Create a sample dataset\n",
    "data = {\n",
    "    'Temperature': [25.0, 27.0, 22.0, 20.0, 24.0],\n",
    "    'Humidity': [40.0, 45.0, 50.0, 55.0, 60.0],\n",
    "    'Weather Condition': ['Sunny', 'Cloudy', 'Rainy', 'Sunny', 'Cloudy'],\n",
    "    'Wind Direction': ['North', 'South', 'East', 'West', 'South']\n",
    "}\n",
    "\n",
    "df = pd.DataFrame(data)\n",
    "\n",
    "# Label encode categorical variables\n",
    "le = LabelEncoder()\n",
    "df['Weather Condition'] = le.fit_transform(df['Weather Condition'])\n",
    "df['Wind Direction'] = le.fit_transform(df['Wind Direction'])\n",
    "\n",
    "# Calculate the covariance matrix\n",
    "cov_matrix = df.cov()\n",
    "\n",
    "print(cov_matrix)\n"
   ]
  },
  {
   "cell_type": "markdown",
   "id": "56b5df87",
   "metadata": {},
   "source": [
    "__Explanation__\n",
    "\n",
    "I label encode the categorical variable before running the covariance analysis.\n",
    "\n",
    "Covariance between temperature and humidity is negative, which means that as temperature increases, humidity tends to decrease. The covariance between weather condition and temperature/humidity is small, indicating that there may not be a strong relationship between them. The covariance between wind direction and temperature/humidity is also small, indicating that wind direction may not have a strong influence on temperature and humidity."
   ]
  },
  {
   "cell_type": "code",
   "execution_count": null,
   "id": "c53ffcca",
   "metadata": {},
   "outputs": [],
   "source": []
  },
  {
   "cell_type": "code",
   "execution_count": null,
   "id": "31ee46e1",
   "metadata": {},
   "outputs": [],
   "source": []
  },
  {
   "cell_type": "code",
   "execution_count": null,
   "id": "0ef8c48d",
   "metadata": {},
   "outputs": [],
   "source": []
  },
  {
   "cell_type": "code",
   "execution_count": null,
   "id": "ace661bb",
   "metadata": {},
   "outputs": [],
   "source": []
  },
  {
   "cell_type": "code",
   "execution_count": null,
   "id": "0ca0a19f",
   "metadata": {},
   "outputs": [],
   "source": []
  },
  {
   "cell_type": "code",
   "execution_count": null,
   "id": "ee5f5483",
   "metadata": {},
   "outputs": [],
   "source": []
  },
  {
   "cell_type": "code",
   "execution_count": null,
   "id": "9cee893b",
   "metadata": {},
   "outputs": [],
   "source": []
  },
  {
   "cell_type": "code",
   "execution_count": null,
   "id": "97ce91d6",
   "metadata": {},
   "outputs": [],
   "source": []
  },
  {
   "cell_type": "code",
   "execution_count": null,
   "id": "be4ef09a",
   "metadata": {},
   "outputs": [],
   "source": []
  },
  {
   "cell_type": "code",
   "execution_count": null,
   "id": "b7420f4a",
   "metadata": {},
   "outputs": [],
   "source": []
  },
  {
   "cell_type": "code",
   "execution_count": null,
   "id": "4a946618",
   "metadata": {},
   "outputs": [],
   "source": []
  },
  {
   "cell_type": "code",
   "execution_count": null,
   "id": "b31ca26c",
   "metadata": {},
   "outputs": [],
   "source": []
  },
  {
   "cell_type": "code",
   "execution_count": null,
   "id": "92087e71",
   "metadata": {},
   "outputs": [],
   "source": []
  },
  {
   "cell_type": "code",
   "execution_count": null,
   "id": "548406f8",
   "metadata": {},
   "outputs": [],
   "source": []
  },
  {
   "cell_type": "code",
   "execution_count": null,
   "id": "55aff9f3",
   "metadata": {},
   "outputs": [],
   "source": []
  },
  {
   "cell_type": "code",
   "execution_count": null,
   "id": "167f3104",
   "metadata": {},
   "outputs": [],
   "source": []
  }
 ],
 "metadata": {
  "kernelspec": {
   "display_name": "Python 3 (ipykernel)",
   "language": "python",
   "name": "python3"
  },
  "language_info": {
   "codemirror_mode": {
    "name": "ipython",
    "version": 3
   },
   "file_extension": ".py",
   "mimetype": "text/x-python",
   "name": "python",
   "nbconvert_exporter": "python",
   "pygments_lexer": "ipython3",
   "version": "3.9.12"
  }
 },
 "nbformat": 4,
 "nbformat_minor": 5
}
